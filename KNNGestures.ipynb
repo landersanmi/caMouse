{
 "cells": [
  {
   "cell_type": "code",
   "execution_count": 20,
   "metadata": {},
   "outputs": [],
   "source": [
    "import pandas as pd\n",
    "from sklearn.model_selection import train_test_split\n",
    "from sklearn.neighbors import KNeighborsClassifier\n",
    "import seaborn as sns\n",
    "import matplotlib.pyplot as plt\n",
    "\n",
    "from sklearn.metrics import classification_report\n",
    "from sklearn.metrics import confusion_matrix\n",
    "from sklearn.metrics import plot_confusion_matrix\n",
    "from sklearn.metrics import accuracy_score\n",
    "\n",
    "import pickle"
   ]
  },
  {
   "cell_type": "code",
   "execution_count": 36,
   "metadata": {},
   "outputs": [
    {
     "data": {
      "text/html": [
       "<div>\n",
       "<style scoped>\n",
       "    .dataframe tbody tr th:only-of-type {\n",
       "        vertical-align: middle;\n",
       "    }\n",
       "\n",
       "    .dataframe tbody tr th {\n",
       "        vertical-align: top;\n",
       "    }\n",
       "\n",
       "    .dataframe thead th {\n",
       "        text-align: right;\n",
       "    }\n",
       "</style>\n",
       "<table border=\"1\" class=\"dataframe\">\n",
       "  <thead>\n",
       "    <tr style=\"text-align: right;\">\n",
       "      <th></th>\n",
       "      <th>x0</th>\n",
       "      <th>y0</th>\n",
       "      <th>z0</th>\n",
       "      <th>x1</th>\n",
       "      <th>y1</th>\n",
       "      <th>z1</th>\n",
       "      <th>x2</th>\n",
       "      <th>y2</th>\n",
       "      <th>z2</th>\n",
       "      <th>x3</th>\n",
       "      <th>...</th>\n",
       "      <th>x18</th>\n",
       "      <th>y18</th>\n",
       "      <th>z18</th>\n",
       "      <th>x19</th>\n",
       "      <th>y19</th>\n",
       "      <th>z19</th>\n",
       "      <th>x20</th>\n",
       "      <th>y20</th>\n",
       "      <th>z20</th>\n",
       "      <th>gesture</th>\n",
       "    </tr>\n",
       "  </thead>\n",
       "  <tbody>\n",
       "    <tr>\n",
       "      <th>0</th>\n",
       "      <td>0.655300</td>\n",
       "      <td>0.797478</td>\n",
       "      <td>-1.246077e-07</td>\n",
       "      <td>0.638530</td>\n",
       "      <td>0.789618</td>\n",
       "      <td>-0.009517</td>\n",
       "      <td>0.626456</td>\n",
       "      <td>0.774549</td>\n",
       "      <td>-0.017395</td>\n",
       "      <td>0.627940</td>\n",
       "      <td>...</td>\n",
       "      <td>0.678428</td>\n",
       "      <td>0.764551</td>\n",
       "      <td>-0.032858</td>\n",
       "      <td>0.670640</td>\n",
       "      <td>0.779527</td>\n",
       "      <td>-0.030473</td>\n",
       "      <td>0.666318</td>\n",
       "      <td>0.783533</td>\n",
       "      <td>-0.026839</td>\n",
       "      <td>RightIndexExtended</td>\n",
       "    </tr>\n",
       "    <tr>\n",
       "      <th>1</th>\n",
       "      <td>0.656982</td>\n",
       "      <td>0.795708</td>\n",
       "      <td>-1.155886e-07</td>\n",
       "      <td>0.639761</td>\n",
       "      <td>0.789950</td>\n",
       "      <td>-0.010876</td>\n",
       "      <td>0.626459</td>\n",
       "      <td>0.776845</td>\n",
       "      <td>-0.020032</td>\n",
       "      <td>0.626465</td>\n",
       "      <td>...</td>\n",
       "      <td>0.677158</td>\n",
       "      <td>0.765850</td>\n",
       "      <td>-0.033579</td>\n",
       "      <td>0.671602</td>\n",
       "      <td>0.780474</td>\n",
       "      <td>-0.030501</td>\n",
       "      <td>0.670305</td>\n",
       "      <td>0.781371</td>\n",
       "      <td>-0.026253</td>\n",
       "      <td>RightIndexExtended</td>\n",
       "    </tr>\n",
       "    <tr>\n",
       "      <th>2</th>\n",
       "      <td>0.639966</td>\n",
       "      <td>0.805850</td>\n",
       "      <td>-1.113507e-07</td>\n",
       "      <td>0.622443</td>\n",
       "      <td>0.801691</td>\n",
       "      <td>-0.010016</td>\n",
       "      <td>0.608082</td>\n",
       "      <td>0.789487</td>\n",
       "      <td>-0.017808</td>\n",
       "      <td>0.604689</td>\n",
       "      <td>...</td>\n",
       "      <td>0.657206</td>\n",
       "      <td>0.784563</td>\n",
       "      <td>-0.032015</td>\n",
       "      <td>0.652515</td>\n",
       "      <td>0.796286</td>\n",
       "      <td>-0.029051</td>\n",
       "      <td>0.652769</td>\n",
       "      <td>0.796856</td>\n",
       "      <td>-0.025029</td>\n",
       "      <td>RightIndexExtended</td>\n",
       "    </tr>\n",
       "    <tr>\n",
       "      <th>3</th>\n",
       "      <td>0.586551</td>\n",
       "      <td>0.829212</td>\n",
       "      <td>-1.664201e-07</td>\n",
       "      <td>0.564562</td>\n",
       "      <td>0.824383</td>\n",
       "      <td>-0.006751</td>\n",
       "      <td>0.546489</td>\n",
       "      <td>0.811764</td>\n",
       "      <td>-0.013807</td>\n",
       "      <td>0.536044</td>\n",
       "      <td>...</td>\n",
       "      <td>0.580038</td>\n",
       "      <td>0.805733</td>\n",
       "      <td>-0.035127</td>\n",
       "      <td>0.582535</td>\n",
       "      <td>0.818498</td>\n",
       "      <td>-0.031384</td>\n",
       "      <td>0.589371</td>\n",
       "      <td>0.814394</td>\n",
       "      <td>-0.027303</td>\n",
       "      <td>RightIndexExtended</td>\n",
       "    </tr>\n",
       "    <tr>\n",
       "      <th>4</th>\n",
       "      <td>0.617386</td>\n",
       "      <td>0.804443</td>\n",
       "      <td>-1.801220e-07</td>\n",
       "      <td>0.597102</td>\n",
       "      <td>0.799710</td>\n",
       "      <td>-0.009210</td>\n",
       "      <td>0.578753</td>\n",
       "      <td>0.783525</td>\n",
       "      <td>-0.016062</td>\n",
       "      <td>0.575107</td>\n",
       "      <td>...</td>\n",
       "      <td>0.629085</td>\n",
       "      <td>0.779588</td>\n",
       "      <td>-0.032732</td>\n",
       "      <td>0.625388</td>\n",
       "      <td>0.792956</td>\n",
       "      <td>-0.029057</td>\n",
       "      <td>0.628077</td>\n",
       "      <td>0.793185</td>\n",
       "      <td>-0.024732</td>\n",
       "      <td>RightIndexExtended</td>\n",
       "    </tr>\n",
       "    <tr>\n",
       "      <th>5</th>\n",
       "      <td>0.681748</td>\n",
       "      <td>0.754461</td>\n",
       "      <td>-1.391937e-07</td>\n",
       "      <td>0.659762</td>\n",
       "      <td>0.733224</td>\n",
       "      <td>-0.006598</td>\n",
       "      <td>0.650564</td>\n",
       "      <td>0.701524</td>\n",
       "      <td>-0.011579</td>\n",
       "      <td>0.658038</td>\n",
       "      <td>...</td>\n",
       "      <td>0.709125</td>\n",
       "      <td>0.691953</td>\n",
       "      <td>-0.026055</td>\n",
       "      <td>0.700085</td>\n",
       "      <td>0.710291</td>\n",
       "      <td>-0.022315</td>\n",
       "      <td>0.694851</td>\n",
       "      <td>0.722158</td>\n",
       "      <td>-0.016915</td>\n",
       "      <td>RightIndexExtended</td>\n",
       "    </tr>\n",
       "    <tr>\n",
       "      <th>6</th>\n",
       "      <td>0.612874</td>\n",
       "      <td>0.771584</td>\n",
       "      <td>-1.902044e-07</td>\n",
       "      <td>0.589904</td>\n",
       "      <td>0.757670</td>\n",
       "      <td>-0.010204</td>\n",
       "      <td>0.574389</td>\n",
       "      <td>0.731170</td>\n",
       "      <td>-0.017582</td>\n",
       "      <td>0.570312</td>\n",
       "      <td>...</td>\n",
       "      <td>0.629471</td>\n",
       "      <td>0.721322</td>\n",
       "      <td>-0.035450</td>\n",
       "      <td>0.623135</td>\n",
       "      <td>0.741180</td>\n",
       "      <td>-0.031387</td>\n",
       "      <td>0.623171</td>\n",
       "      <td>0.749525</td>\n",
       "      <td>-0.025610</td>\n",
       "      <td>RightIndexExtended</td>\n",
       "    </tr>\n",
       "    <tr>\n",
       "      <th>7</th>\n",
       "      <td>0.688335</td>\n",
       "      <td>0.790109</td>\n",
       "      <td>-4.173204e-08</td>\n",
       "      <td>0.675728</td>\n",
       "      <td>0.781218</td>\n",
       "      <td>-0.012588</td>\n",
       "      <td>0.667712</td>\n",
       "      <td>0.759930</td>\n",
       "      <td>-0.020942</td>\n",
       "      <td>0.672397</td>\n",
       "      <td>...</td>\n",
       "      <td>0.729023</td>\n",
       "      <td>0.764134</td>\n",
       "      <td>-0.035865</td>\n",
       "      <td>0.715558</td>\n",
       "      <td>0.779661</td>\n",
       "      <td>-0.032581</td>\n",
       "      <td>0.705217</td>\n",
       "      <td>0.782809</td>\n",
       "      <td>-0.027736</td>\n",
       "      <td>RightIndexExtended</td>\n",
       "    </tr>\n",
       "    <tr>\n",
       "      <th>8</th>\n",
       "      <td>0.723751</td>\n",
       "      <td>0.815432</td>\n",
       "      <td>-1.093951e-07</td>\n",
       "      <td>0.705919</td>\n",
       "      <td>0.797034</td>\n",
       "      <td>-0.010985</td>\n",
       "      <td>0.701458</td>\n",
       "      <td>0.768754</td>\n",
       "      <td>-0.018914</td>\n",
       "      <td>0.715519</td>\n",
       "      <td>...</td>\n",
       "      <td>0.765567</td>\n",
       "      <td>0.767193</td>\n",
       "      <td>-0.028304</td>\n",
       "      <td>0.754260</td>\n",
       "      <td>0.782939</td>\n",
       "      <td>-0.025070</td>\n",
       "      <td>0.745706</td>\n",
       "      <td>0.787789</td>\n",
       "      <td>-0.020063</td>\n",
       "      <td>RightIndexExtended</td>\n",
       "    </tr>\n",
       "    <tr>\n",
       "      <th>9</th>\n",
       "      <td>0.542085</td>\n",
       "      <td>0.892374</td>\n",
       "      <td>-3.226319e-08</td>\n",
       "      <td>0.525289</td>\n",
       "      <td>0.889364</td>\n",
       "      <td>-0.009720</td>\n",
       "      <td>0.509935</td>\n",
       "      <td>0.882299</td>\n",
       "      <td>-0.018784</td>\n",
       "      <td>0.498341</td>\n",
       "      <td>...</td>\n",
       "      <td>0.548285</td>\n",
       "      <td>0.897043</td>\n",
       "      <td>-0.040019</td>\n",
       "      <td>0.542863</td>\n",
       "      <td>0.904883</td>\n",
       "      <td>-0.037869</td>\n",
       "      <td>0.542489</td>\n",
       "      <td>0.903601</td>\n",
       "      <td>-0.034513</td>\n",
       "      <td>RightIndexExtended</td>\n",
       "    </tr>\n",
       "  </tbody>\n",
       "</table>\n",
       "<p>10 rows × 64 columns</p>\n",
       "</div>"
      ],
      "text/plain": [
       "         x0        y0            z0        x1        y1        z1        x2  \\\n",
       "0  0.655300  0.797478 -1.246077e-07  0.638530  0.789618 -0.009517  0.626456   \n",
       "1  0.656982  0.795708 -1.155886e-07  0.639761  0.789950 -0.010876  0.626459   \n",
       "2  0.639966  0.805850 -1.113507e-07  0.622443  0.801691 -0.010016  0.608082   \n",
       "3  0.586551  0.829212 -1.664201e-07  0.564562  0.824383 -0.006751  0.546489   \n",
       "4  0.617386  0.804443 -1.801220e-07  0.597102  0.799710 -0.009210  0.578753   \n",
       "5  0.681748  0.754461 -1.391937e-07  0.659762  0.733224 -0.006598  0.650564   \n",
       "6  0.612874  0.771584 -1.902044e-07  0.589904  0.757670 -0.010204  0.574389   \n",
       "7  0.688335  0.790109 -4.173204e-08  0.675728  0.781218 -0.012588  0.667712   \n",
       "8  0.723751  0.815432 -1.093951e-07  0.705919  0.797034 -0.010985  0.701458   \n",
       "9  0.542085  0.892374 -3.226319e-08  0.525289  0.889364 -0.009720  0.509935   \n",
       "\n",
       "         y2        z2        x3  ...       x18       y18       z18       x19  \\\n",
       "0  0.774549 -0.017395  0.627940  ...  0.678428  0.764551 -0.032858  0.670640   \n",
       "1  0.776845 -0.020032  0.626465  ...  0.677158  0.765850 -0.033579  0.671602   \n",
       "2  0.789487 -0.017808  0.604689  ...  0.657206  0.784563 -0.032015  0.652515   \n",
       "3  0.811764 -0.013807  0.536044  ...  0.580038  0.805733 -0.035127  0.582535   \n",
       "4  0.783525 -0.016062  0.575107  ...  0.629085  0.779588 -0.032732  0.625388   \n",
       "5  0.701524 -0.011579  0.658038  ...  0.709125  0.691953 -0.026055  0.700085   \n",
       "6  0.731170 -0.017582  0.570312  ...  0.629471  0.721322 -0.035450  0.623135   \n",
       "7  0.759930 -0.020942  0.672397  ...  0.729023  0.764134 -0.035865  0.715558   \n",
       "8  0.768754 -0.018914  0.715519  ...  0.765567  0.767193 -0.028304  0.754260   \n",
       "9  0.882299 -0.018784  0.498341  ...  0.548285  0.897043 -0.040019  0.542863   \n",
       "\n",
       "        y19       z19       x20       y20       z20             gesture  \n",
       "0  0.779527 -0.030473  0.666318  0.783533 -0.026839  RightIndexExtended  \n",
       "1  0.780474 -0.030501  0.670305  0.781371 -0.026253  RightIndexExtended  \n",
       "2  0.796286 -0.029051  0.652769  0.796856 -0.025029  RightIndexExtended  \n",
       "3  0.818498 -0.031384  0.589371  0.814394 -0.027303  RightIndexExtended  \n",
       "4  0.792956 -0.029057  0.628077  0.793185 -0.024732  RightIndexExtended  \n",
       "5  0.710291 -0.022315  0.694851  0.722158 -0.016915  RightIndexExtended  \n",
       "6  0.741180 -0.031387  0.623171  0.749525 -0.025610  RightIndexExtended  \n",
       "7  0.779661 -0.032581  0.705217  0.782809 -0.027736  RightIndexExtended  \n",
       "8  0.782939 -0.025070  0.745706  0.787789 -0.020063  RightIndexExtended  \n",
       "9  0.904883 -0.037869  0.542489  0.903601 -0.034513  RightIndexExtended  \n",
       "\n",
       "[10 rows x 64 columns]"
      ]
     },
     "execution_count": 36,
     "metadata": {},
     "output_type": "execute_result"
    }
   ],
   "source": [
    "df = pd.read_csv('datasets/p2.csv').drop(['Unnamed: 0'], axis=1)\n",
    "df.head(10)"
   ]
  },
  {
   "cell_type": "code",
   "execution_count": 37,
   "metadata": {},
   "outputs": [
    {
     "name": "stdout",
     "output_type": "stream",
     "text": [
      "Ejemplos usados para entrenar:  696\n",
      "Ejemplos usados para test:  174\n"
     ]
    }
   ],
   "source": [
    "X = df.drop('gesture', axis=1, inplace=False)\n",
    "Y = df['gesture']\n",
    "# Testing overfitting with 90% test size\n",
    "x_train, x_test, y_train, y_test = train_test_split(X, Y, test_size=0.2, shuffle=True)\n",
    "\n",
    "print(\"Ejemplos usados para entrenar: \", len(x_train))\n",
    "print(\"Ejemplos usados para test: \", len(x_test))"
   ]
  },
  {
   "cell_type": "markdown",
   "metadata": {},
   "source": [
    "### Model training"
   ]
  },
  {
   "cell_type": "code",
   "execution_count": 52,
   "metadata": {},
   "outputs": [
    {
     "name": "stdout",
     "output_type": "stream",
     "text": [
      "Accuracy of K-NN classifier on training set: 0.93\n"
     ]
    }
   ],
   "source": [
    "knn = KNeighborsClassifier(3)\n",
    "knn.fit(x_train, y_train)\n",
    "print('Accuracy of K-NN classifier on training set: {:.2f}'.format(knn.score(x_train, y_train)))"
   ]
  },
  {
   "cell_type": "code",
   "execution_count": 53,
   "metadata": {},
   "outputs": [],
   "source": [
    "pred = knn.predict(x_test)"
   ]
  },
  {
   "cell_type": "code",
   "execution_count": 54,
   "metadata": {},
   "outputs": [
    {
     "data": {
      "text/plain": [
       "<AxesSubplot: >"
      ]
     },
     "execution_count": 54,
     "metadata": {},
     "output_type": "execute_result"
    },
    {
     "data": {
      "image/png": "[encoded data removed]",
      "text/plain": [
       "<Figure size 640x480 with 2 Axes>"
      ]
     },
     "metadata": {},
     "output_type": "display_data"
    }
   ],
   "source": [
    "sns.heatmap(confusion_matrix(y_test, pred), annot=True)"
   ]
  },
  {
   "cell_type": "code",
   "execution_count": 55,
   "metadata": {},
   "outputs": [
    {
     "name": "stdout",
     "output_type": "stream",
     "text": [
      "                    precision    recall  f1-score   support\n",
      "\n",
      "   ExtendedHandEnd       0.92      1.00      0.96        11\n",
      " ExtendedHandStart       1.00      1.00      1.00         7\n",
      "   LeftIndexClosed       0.53      0.67      0.59        12\n",
      " LeftIndexExtended       0.83      0.50      0.62        10\n",
      "     LeftIndexHook       0.44      0.67      0.53         6\n",
      "              None       0.83      0.79      0.81        24\n",
      "           PinchIn       0.78      0.88      0.82        24\n",
      "          PinchOut       0.88      0.88      0.88        17\n",
      "  RightIndexClosed       0.60      0.50      0.55        12\n",
      "RightIndexExtended       0.75      0.90      0.82        10\n",
      "    RightIndexHook       0.64      0.64      0.64        11\n",
      "         ThumbDown       1.00      0.71      0.83        14\n",
      "           ThumbUp       0.93      0.88      0.90        16\n",
      "\n",
      "          accuracy                           0.78       174\n",
      "         macro avg       0.78      0.77      0.77       174\n",
      "      weighted avg       0.80      0.78      0.78       174\n",
      "\n"
     ]
    }
   ],
   "source": [
    "print(classification_report(y_test, pred))"
   ]
  },
  {
   "cell_type": "code",
   "execution_count": 42,
   "metadata": {},
   "outputs": [],
   "source": [
    "with open('models/knn.pkl', 'wb') as file:\n",
    "    pickle.dump(knn, file)\n",
    "    file.close()"
   ]
  },
  {
   "cell_type": "markdown",
   "metadata": {},
   "source": [
    "### Elbow Method"
   ]
  },
  {
   "cell_type": "code",
   "execution_count": 46,
   "metadata": {},
   "outputs": [],
   "source": [
    "test_error_rates = []\n",
    "\n",
    "for k in range(2,20):\n",
    "    knn_model = KNeighborsClassifier(n_neighbors=k)\n",
    "    knn_model.fit(x_train, y_train) \n",
    "   \n",
    "    y_pred = knn_model.predict(x_test)\n",
    "    \n",
    "    test_error = 1 - accuracy_score(y_test,y_pred)\n",
    "    test_error_rates.append(test_error)"
   ]
  },
  {
   "cell_type": "code",
   "execution_count": 47,
   "metadata": {},
   "outputs": [
    {
     "data": {
      "text/plain": [
       "Text(0.5, 0, 'K Value')"
      ]
     },
     "execution_count": 47,
     "metadata": {},
     "output_type": "execute_result"
    },
    {
     "data": {
      "image/png": "[encoded data removed]",
      "text/plain": [
       "<Figure size 600x400 with 1 Axes>"
      ]
     },
     "metadata": {},
     "output_type": "display_data"
    }
   ],
   "source": [
    "plt.figure(figsize=(6,4),dpi=100)\n",
    "plt.plot(range(2,20),test_error_rates,label='Test Error')\n",
    "plt.legend()\n",
    "plt.ylabel('Error Rate')\n",
    "plt.xlabel(\"K Value\")"
   ]
  }
 ],
 "metadata": {
  "kernelspec": {
   "display_name": "Python 3.10.0 ('mucsi-vpc')",
   "language": "python",
   "name": "python3"
  },
  "language_info": {
   "codemirror_mode": {
    "name": "ipython",
    "version": 3
   },
   "file_extension": ".py",
   "mimetype": "text/x-python",
   "name": "python",
   "nbconvert_exporter": "python",
   "pygments_lexer": "ipython3",
   "version": "3.10.0"
  },
  "orig_nbformat": 4,
  "vscode": {
   "interpreter": {
    "hash": "ecd9054860996d5fb6517079054754c6989c25de9e4bbc7a9596290e731727a5"
   }
  }
 },
 "nbformat": 4,
 "nbformat_minor": 2
}
