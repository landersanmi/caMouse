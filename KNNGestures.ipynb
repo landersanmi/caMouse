{
 "cells": [
  {
   "cell_type": "code",
   "execution_count": 1,
   "metadata": {},
   "outputs": [],
   "source": [
    "import pandas as pd\n",
    "from sklearn.model_selection import train_test_split\n",
    "from sklearn.neighbors import KNeighborsClassifier\n",
    "import seaborn as sns\n",
    "import matplotlib.pyplot as plt\n",
    "\n",
    "from sklearn.metrics import classification_report\n",
    "from sklearn.metrics import confusion_matrix\n",
    "from sklearn.metrics import plot_confusion_matrix\n",
    "from sklearn.metrics import accuracy_score\n",
    "\n",
    "import pickle"
   ]
  },
  {
   "cell_type": "code",
   "execution_count": 2,
   "metadata": {},
   "outputs": [
    {
     "data": {
      "text/html": [
       "<div>\n",
       "<style scoped>\n",
       "    .dataframe tbody tr th:only-of-type {\n",
       "        vertical-align: middle;\n",
       "    }\n",
       "\n",
       "    .dataframe tbody tr th {\n",
       "        vertical-align: top;\n",
       "    }\n",
       "\n",
       "    .dataframe thead th {\n",
       "        text-align: right;\n",
       "    }\n",
       "</style>\n",
       "<table border=\"1\" class=\"dataframe\">\n",
       "  <thead>\n",
       "    <tr style=\"text-align: right;\">\n",
       "      <th></th>\n",
       "      <th>x0</th>\n",
       "      <th>y0</th>\n",
       "      <th>z0</th>\n",
       "      <th>x1</th>\n",
       "      <th>y1</th>\n",
       "      <th>z1</th>\n",
       "      <th>x2</th>\n",
       "      <th>y2</th>\n",
       "      <th>z2</th>\n",
       "      <th>x3</th>\n",
       "      <th>...</th>\n",
       "      <th>x18</th>\n",
       "      <th>y18</th>\n",
       "      <th>z18</th>\n",
       "      <th>x19</th>\n",
       "      <th>y19</th>\n",
       "      <th>z19</th>\n",
       "      <th>x20</th>\n",
       "      <th>y20</th>\n",
       "      <th>z20</th>\n",
       "      <th>gesture</th>\n",
       "    </tr>\n",
       "  </thead>\n",
       "  <tbody>\n",
       "    <tr>\n",
       "      <th>0</th>\n",
       "      <td>0.557007</td>\n",
       "      <td>0.818380</td>\n",
       "      <td>-1.402221e-07</td>\n",
       "      <td>0.533844</td>\n",
       "      <td>0.807948</td>\n",
       "      <td>-0.013054</td>\n",
       "      <td>0.518483</td>\n",
       "      <td>0.784112</td>\n",
       "      <td>-0.022051</td>\n",
       "      <td>0.516952</td>\n",
       "      <td>...</td>\n",
       "      <td>0.578329</td>\n",
       "      <td>0.755628</td>\n",
       "      <td>-0.036279</td>\n",
       "      <td>0.569145</td>\n",
       "      <td>0.778225</td>\n",
       "      <td>-0.033187</td>\n",
       "      <td>0.563674</td>\n",
       "      <td>0.786244</td>\n",
       "      <td>-0.027492</td>\n",
       "      <td>RightIndexExtended</td>\n",
       "    </tr>\n",
       "    <tr>\n",
       "      <th>1</th>\n",
       "      <td>0.556453</td>\n",
       "      <td>0.817928</td>\n",
       "      <td>-1.355417e-07</td>\n",
       "      <td>0.533192</td>\n",
       "      <td>0.807721</td>\n",
       "      <td>-0.012867</td>\n",
       "      <td>0.517826</td>\n",
       "      <td>0.784252</td>\n",
       "      <td>-0.022033</td>\n",
       "      <td>0.516570</td>\n",
       "      <td>...</td>\n",
       "      <td>0.576979</td>\n",
       "      <td>0.755731</td>\n",
       "      <td>-0.036258</td>\n",
       "      <td>0.567646</td>\n",
       "      <td>0.777365</td>\n",
       "      <td>-0.032986</td>\n",
       "      <td>0.562199</td>\n",
       "      <td>0.785344</td>\n",
       "      <td>-0.027215</td>\n",
       "      <td>RightIndexExtended</td>\n",
       "    </tr>\n",
       "    <tr>\n",
       "      <th>2</th>\n",
       "      <td>0.556143</td>\n",
       "      <td>0.818267</td>\n",
       "      <td>-1.323524e-07</td>\n",
       "      <td>0.533082</td>\n",
       "      <td>0.807373</td>\n",
       "      <td>-0.012597</td>\n",
       "      <td>0.518027</td>\n",
       "      <td>0.783881</td>\n",
       "      <td>-0.021483</td>\n",
       "      <td>0.516841</td>\n",
       "      <td>...</td>\n",
       "      <td>0.576355</td>\n",
       "      <td>0.756964</td>\n",
       "      <td>-0.035861</td>\n",
       "      <td>0.566996</td>\n",
       "      <td>0.778610</td>\n",
       "      <td>-0.032916</td>\n",
       "      <td>0.561500</td>\n",
       "      <td>0.787286</td>\n",
       "      <td>-0.027354</td>\n",
       "      <td>RightIndexExtended</td>\n",
       "    </tr>\n",
       "    <tr>\n",
       "      <th>3</th>\n",
       "      <td>0.555767</td>\n",
       "      <td>0.818695</td>\n",
       "      <td>-1.507060e-07</td>\n",
       "      <td>0.533051</td>\n",
       "      <td>0.808627</td>\n",
       "      <td>-0.012900</td>\n",
       "      <td>0.517367</td>\n",
       "      <td>0.785632</td>\n",
       "      <td>-0.022078</td>\n",
       "      <td>0.515604</td>\n",
       "      <td>...</td>\n",
       "      <td>0.577151</td>\n",
       "      <td>0.758788</td>\n",
       "      <td>-0.037497</td>\n",
       "      <td>0.566721</td>\n",
       "      <td>0.781247</td>\n",
       "      <td>-0.034382</td>\n",
       "      <td>0.560495</td>\n",
       "      <td>0.789517</td>\n",
       "      <td>-0.028730</td>\n",
       "      <td>RightIndexExtended</td>\n",
       "    </tr>\n",
       "    <tr>\n",
       "      <th>4</th>\n",
       "      <td>0.556594</td>\n",
       "      <td>0.818269</td>\n",
       "      <td>-1.391468e-07</td>\n",
       "      <td>0.533063</td>\n",
       "      <td>0.807880</td>\n",
       "      <td>-0.011843</td>\n",
       "      <td>0.517516</td>\n",
       "      <td>0.784617</td>\n",
       "      <td>-0.020444</td>\n",
       "      <td>0.516228</td>\n",
       "      <td>...</td>\n",
       "      <td>0.574808</td>\n",
       "      <td>0.756816</td>\n",
       "      <td>-0.035289</td>\n",
       "      <td>0.566043</td>\n",
       "      <td>0.778099</td>\n",
       "      <td>-0.031623</td>\n",
       "      <td>0.561359</td>\n",
       "      <td>0.785286</td>\n",
       "      <td>-0.025662</td>\n",
       "      <td>RightIndexExtended</td>\n",
       "    </tr>\n",
       "    <tr>\n",
       "      <th>5</th>\n",
       "      <td>0.553114</td>\n",
       "      <td>0.822046</td>\n",
       "      <td>-1.500118e-07</td>\n",
       "      <td>0.530073</td>\n",
       "      <td>0.812050</td>\n",
       "      <td>-0.011775</td>\n",
       "      <td>0.515534</td>\n",
       "      <td>0.788155</td>\n",
       "      <td>-0.020329</td>\n",
       "      <td>0.515464</td>\n",
       "      <td>...</td>\n",
       "      <td>0.574560</td>\n",
       "      <td>0.760834</td>\n",
       "      <td>-0.036202</td>\n",
       "      <td>0.564464</td>\n",
       "      <td>0.783322</td>\n",
       "      <td>-0.032263</td>\n",
       "      <td>0.558980</td>\n",
       "      <td>0.790892</td>\n",
       "      <td>-0.026042</td>\n",
       "      <td>RightIndexExtended</td>\n",
       "    </tr>\n",
       "    <tr>\n",
       "      <th>6</th>\n",
       "      <td>0.551984</td>\n",
       "      <td>0.833117</td>\n",
       "      <td>-1.491250e-07</td>\n",
       "      <td>0.529760</td>\n",
       "      <td>0.823667</td>\n",
       "      <td>-0.013106</td>\n",
       "      <td>0.514638</td>\n",
       "      <td>0.800060</td>\n",
       "      <td>-0.022341</td>\n",
       "      <td>0.514030</td>\n",
       "      <td>...</td>\n",
       "      <td>0.575827</td>\n",
       "      <td>0.774787</td>\n",
       "      <td>-0.039873</td>\n",
       "      <td>0.566578</td>\n",
       "      <td>0.797241</td>\n",
       "      <td>-0.035841</td>\n",
       "      <td>0.562719</td>\n",
       "      <td>0.804168</td>\n",
       "      <td>-0.029540</td>\n",
       "      <td>RightIndexExtended</td>\n",
       "    </tr>\n",
       "    <tr>\n",
       "      <th>7</th>\n",
       "      <td>0.553248</td>\n",
       "      <td>0.836382</td>\n",
       "      <td>-1.539127e-07</td>\n",
       "      <td>0.530480</td>\n",
       "      <td>0.826793</td>\n",
       "      <td>-0.013821</td>\n",
       "      <td>0.514576</td>\n",
       "      <td>0.804015</td>\n",
       "      <td>-0.023851</td>\n",
       "      <td>0.513924</td>\n",
       "      <td>...</td>\n",
       "      <td>0.577023</td>\n",
       "      <td>0.778279</td>\n",
       "      <td>-0.041838</td>\n",
       "      <td>0.568130</td>\n",
       "      <td>0.801330</td>\n",
       "      <td>-0.037603</td>\n",
       "      <td>0.565093</td>\n",
       "      <td>0.807355</td>\n",
       "      <td>-0.031106</td>\n",
       "      <td>RightIndexExtended</td>\n",
       "    </tr>\n",
       "    <tr>\n",
       "      <th>8</th>\n",
       "      <td>0.557370</td>\n",
       "      <td>0.851014</td>\n",
       "      <td>-1.670577e-07</td>\n",
       "      <td>0.534323</td>\n",
       "      <td>0.839594</td>\n",
       "      <td>-0.015166</td>\n",
       "      <td>0.518370</td>\n",
       "      <td>0.817355</td>\n",
       "      <td>-0.026637</td>\n",
       "      <td>0.517369</td>\n",
       "      <td>...</td>\n",
       "      <td>0.585044</td>\n",
       "      <td>0.792041</td>\n",
       "      <td>-0.045404</td>\n",
       "      <td>0.574862</td>\n",
       "      <td>0.815334</td>\n",
       "      <td>-0.041956</td>\n",
       "      <td>0.569811</td>\n",
       "      <td>0.823162</td>\n",
       "      <td>-0.035893</td>\n",
       "      <td>RightIndexExtended</td>\n",
       "    </tr>\n",
       "    <tr>\n",
       "      <th>9</th>\n",
       "      <td>0.563033</td>\n",
       "      <td>0.856114</td>\n",
       "      <td>-1.469460e-07</td>\n",
       "      <td>0.537668</td>\n",
       "      <td>0.843490</td>\n",
       "      <td>-0.015275</td>\n",
       "      <td>0.519999</td>\n",
       "      <td>0.820168</td>\n",
       "      <td>-0.027261</td>\n",
       "      <td>0.520042</td>\n",
       "      <td>...</td>\n",
       "      <td>0.592369</td>\n",
       "      <td>0.795393</td>\n",
       "      <td>-0.045937</td>\n",
       "      <td>0.581212</td>\n",
       "      <td>0.819584</td>\n",
       "      <td>-0.041451</td>\n",
       "      <td>0.575025</td>\n",
       "      <td>0.827156</td>\n",
       "      <td>-0.034872</td>\n",
       "      <td>RightIndexExtended</td>\n",
       "    </tr>\n",
       "  </tbody>\n",
       "</table>\n",
       "<p>10 rows × 64 columns</p>\n",
       "</div>"
      ],
      "text/plain": [
       "         x0        y0            z0        x1        y1        z1        x2  \\\n",
       "0  0.557007  0.818380 -1.402221e-07  0.533844  0.807948 -0.013054  0.518483   \n",
       "1  0.556453  0.817928 -1.355417e-07  0.533192  0.807721 -0.012867  0.517826   \n",
       "2  0.556143  0.818267 -1.323524e-07  0.533082  0.807373 -0.012597  0.518027   \n",
       "3  0.555767  0.818695 -1.507060e-07  0.533051  0.808627 -0.012900  0.517367   \n",
       "4  0.556594  0.818269 -1.391468e-07  0.533063  0.807880 -0.011843  0.517516   \n",
       "5  0.553114  0.822046 -1.500118e-07  0.530073  0.812050 -0.011775  0.515534   \n",
       "6  0.551984  0.833117 -1.491250e-07  0.529760  0.823667 -0.013106  0.514638   \n",
       "7  0.553248  0.836382 -1.539127e-07  0.530480  0.826793 -0.013821  0.514576   \n",
       "8  0.557370  0.851014 -1.670577e-07  0.534323  0.839594 -0.015166  0.518370   \n",
       "9  0.563033  0.856114 -1.469460e-07  0.537668  0.843490 -0.015275  0.519999   \n",
       "\n",
       "         y2        z2        x3  ...       x18       y18       z18       x19  \\\n",
       "0  0.784112 -0.022051  0.516952  ...  0.578329  0.755628 -0.036279  0.569145   \n",
       "1  0.784252 -0.022033  0.516570  ...  0.576979  0.755731 -0.036258  0.567646   \n",
       "2  0.783881 -0.021483  0.516841  ...  0.576355  0.756964 -0.035861  0.566996   \n",
       "3  0.785632 -0.022078  0.515604  ...  0.577151  0.758788 -0.037497  0.566721   \n",
       "4  0.784617 -0.020444  0.516228  ...  0.574808  0.756816 -0.035289  0.566043   \n",
       "5  0.788155 -0.020329  0.515464  ...  0.574560  0.760834 -0.036202  0.564464   \n",
       "6  0.800060 -0.022341  0.514030  ...  0.575827  0.774787 -0.039873  0.566578   \n",
       "7  0.804015 -0.023851  0.513924  ...  0.577023  0.778279 -0.041838  0.568130   \n",
       "8  0.817355 -0.026637  0.517369  ...  0.585044  0.792041 -0.045404  0.574862   \n",
       "9  0.820168 -0.027261  0.520042  ...  0.592369  0.795393 -0.045937  0.581212   \n",
       "\n",
       "        y19       z19       x20       y20       z20             gesture  \n",
       "0  0.778225 -0.033187  0.563674  0.786244 -0.027492  RightIndexExtended  \n",
       "1  0.777365 -0.032986  0.562199  0.785344 -0.027215  RightIndexExtended  \n",
       "2  0.778610 -0.032916  0.561500  0.787286 -0.027354  RightIndexExtended  \n",
       "3  0.781247 -0.034382  0.560495  0.789517 -0.028730  RightIndexExtended  \n",
       "4  0.778099 -0.031623  0.561359  0.785286 -0.025662  RightIndexExtended  \n",
       "5  0.783322 -0.032263  0.558980  0.790892 -0.026042  RightIndexExtended  \n",
       "6  0.797241 -0.035841  0.562719  0.804168 -0.029540  RightIndexExtended  \n",
       "7  0.801330 -0.037603  0.565093  0.807355 -0.031106  RightIndexExtended  \n",
       "8  0.815334 -0.041956  0.569811  0.823162 -0.035893  RightIndexExtended  \n",
       "9  0.819584 -0.041451  0.575025  0.827156 -0.034872  RightIndexExtended  \n",
       "\n",
       "[10 rows x 64 columns]"
      ]
     },
     "execution_count": 2,
     "metadata": {},
     "output_type": "execute_result"
    }
   ],
   "source": [
    "df = pd.read_csv('datasets/p1z.csv').drop(['Unnamed: 0'], axis=1)\n",
    "df.head(10)"
   ]
  },
  {
   "cell_type": "code",
   "execution_count": 3,
   "metadata": {},
   "outputs": [
    {
     "name": "stdout",
     "output_type": "stream",
     "text": [
      "Ejemplos usados para entrenar:  4186\n",
      "Ejemplos usados para test:  1047\n"
     ]
    }
   ],
   "source": [
    "X = df.drop('gesture', axis=1, inplace=False)\n",
    "Y = df['gesture']\n",
    "# Testing overfitting with 90% test size\n",
    "x_train, x_test, y_train, y_test = train_test_split(X, Y, test_size=0.2, shuffle=True)\n",
    "\n",
    "print(\"Ejemplos usados para entrenar: \", len(x_train))\n",
    "print(\"Ejemplos usados para test: \", len(x_test))"
   ]
  },
  {
   "cell_type": "markdown",
   "metadata": {},
   "source": [
    "### Model training"
   ]
  },
  {
   "cell_type": "code",
   "execution_count": 15,
   "metadata": {},
   "outputs": [
    {
     "name": "stdout",
     "output_type": "stream",
     "text": [
      "Accuracy of K-NN classifier on training set: 0.99\n"
     ]
    }
   ],
   "source": [
    "knn = KNeighborsClassifier(3)\n",
    "knn.fit(x_train, y_train)\n",
    "print('Accuracy of K-NN classifier on training set: {:.2f}'.format(knn.score(x_train, y_train)))"
   ]
  },
  {
   "cell_type": "code",
   "execution_count": 16,
   "metadata": {},
   "outputs": [],
   "source": [
    "pred = knn.predict(x_test)"
   ]
  },
  {
   "cell_type": "code",
   "execution_count": 17,
   "metadata": {},
   "outputs": [
    {
     "data": {
      "text/plain": [
       "<AxesSubplot: >"
      ]
     },
     "execution_count": 17,
     "metadata": {},
     "output_type": "execute_result"
    },
    {
     "data": {
      "image/png": "[encoded data removed]",
      "text/plain": [
       "<Figure size 640x480 with 2 Axes>"
      ]
     },
     "metadata": {},
     "output_type": "display_data"
    }
   ],
   "source": [
    "sns.heatmap(confusion_matrix(y_test, pred), annot=True)"
   ]
  },
  {
   "cell_type": "code",
   "execution_count": 18,
   "metadata": {},
   "outputs": [
    {
     "name": "stdout",
     "output_type": "stream",
     "text": [
      "                    precision    recall  f1-score   support\n",
      "\n",
      "   ExtendedHandEnd       1.00      1.00      1.00        69\n",
      " ExtendedHandStart       1.00      1.00      1.00        94\n",
      "   LeftIndexClosed       0.97      0.97      0.97        90\n",
      " LeftIndexExtended       0.96      0.95      0.96        58\n",
      "     LeftIndexHook       0.93      0.95      0.94        78\n",
      "              None       0.99      0.97      0.98        88\n",
      "           PinchIn       0.92      0.97      0.95        63\n",
      "          PinchOut       1.00      0.99      0.99        87\n",
      "  RightIndexClosed       0.83      0.89      0.86        54\n",
      "RightIndexExtended       0.89      0.90      0.89       113\n",
      "    RightIndexHook       0.92      0.84      0.88        83\n",
      "         ThumbDown       1.00      1.00      1.00        65\n",
      "           ThumbUp       1.00      1.00      1.00       105\n",
      "\n",
      "          accuracy                           0.96      1047\n",
      "         macro avg       0.95      0.96      0.95      1047\n",
      "      weighted avg       0.96      0.96      0.96      1047\n",
      "\n"
     ]
    }
   ],
   "source": [
    "print(classification_report(y_test, pred))"
   ]
  },
  {
   "cell_type": "code",
   "execution_count": 19,
   "metadata": {},
   "outputs": [],
   "source": [
    "with open('models/knn.pkl', 'wb') as file:\n",
    "    pickle.dump(knn, file)\n",
    "    file.close()"
   ]
  },
  {
   "cell_type": "markdown",
   "metadata": {},
   "source": [
    "### Elbow Method"
   ]
  },
  {
   "cell_type": "code",
   "execution_count": 9,
   "metadata": {},
   "outputs": [],
   "source": [
    "test_error_rates = []\n",
    "\n",
    "for k in range(2,20):\n",
    "    knn_model = KNeighborsClassifier(n_neighbors=k)\n",
    "    knn_model.fit(x_train, y_train) \n",
    "   \n",
    "    y_pred = knn_model.predict(x_test)\n",
    "    \n",
    "    test_error = 1 - accuracy_score(y_test,y_pred)\n",
    "    test_error_rates.append(test_error)"
   ]
  },
  {
   "cell_type": "code",
   "execution_count": 10,
   "metadata": {},
   "outputs": [
    {
     "data": {
      "text/plain": [
       "Text(0.5, 0, 'K Value')"
      ]
     },
     "execution_count": 10,
     "metadata": {},
     "output_type": "execute_result"
    },
    {
     "data": {
      "image/png": "[encoded data removed]",
      "text/plain": [
       "<Figure size 600x400 with 1 Axes>"
      ]
     },
     "metadata": {},
     "output_type": "display_data"
    }
   ],
   "source": [
    "plt.figure(figsize=(6,4),dpi=100)\n",
    "plt.plot(range(2,20),test_error_rates,label='Test Error')\n",
    "plt.legend()\n",
    "plt.ylabel('Error Rate')\n",
    "plt.xlabel(\"K Value\")"
   ]
  }
 ],
 "metadata": {
  "kernelspec": {
   "display_name": "Python 3.10.0 ('mucsi-vpc')",
   "language": "python",
   "name": "python3"
  },
  "language_info": {
   "codemirror_mode": {
    "name": "ipython",
    "version": 3
   },
   "file_extension": ".py",
   "mimetype": "text/x-python",
   "name": "python",
   "nbconvert_exporter": "python",
   "pygments_lexer": "ipython3",
   "version": "3.10.0"
  },
  "orig_nbformat": 4,
  "vscode": {
   "interpreter": {
    "hash": "ecd9054860996d5fb6517079054754c6989c25de9e4bbc7a9596290e731727a5"
   }
  }
 },
 "nbformat": 4,
 "nbformat_minor": 2
}
