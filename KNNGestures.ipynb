{
 "cells": [
  {
   "cell_type": "code",
   "execution_count": 11,
   "metadata": {},
   "outputs": [],
   "source": [
    "import pandas as pd\n",
    "from sklearn.model_selection import train_test_split\n",
    "from sklearn.neighbors import KNeighborsClassifier\n",
    "import seaborn as sns\n",
    "import matplotlib.pyplot as plt\n",
    "\n",
    "from sklearn.metrics import classification_report\n",
    "from sklearn.metrics import confusion_matrix\n",
    "from sklearn.metrics import plot_confusion_matrix\n",
    "from sklearn.metrics import accuracy_score"
   ]
  },
  {
   "cell_type": "code",
   "execution_count": 12,
   "metadata": {},
   "outputs": [
    {
     "data": {
      "text/html": [
       "<div>\n",
       "<style scoped>\n",
       "    .dataframe tbody tr th:only-of-type {\n",
       "        vertical-align: middle;\n",
       "    }\n",
       "\n",
       "    .dataframe tbody tr th {\n",
       "        vertical-align: top;\n",
       "    }\n",
       "\n",
       "    .dataframe thead th {\n",
       "        text-align: right;\n",
       "    }\n",
       "</style>\n",
       "<table border=\"1\" class=\"dataframe\">\n",
       "  <thead>\n",
       "    <tr style=\"text-align: right;\">\n",
       "      <th></th>\n",
       "      <th>x0</th>\n",
       "      <th>y0</th>\n",
       "      <th>x1</th>\n",
       "      <th>y1</th>\n",
       "      <th>x2</th>\n",
       "      <th>y2</th>\n",
       "      <th>x3</th>\n",
       "      <th>y3</th>\n",
       "      <th>x4</th>\n",
       "      <th>y4</th>\n",
       "      <th>...</th>\n",
       "      <th>y16</th>\n",
       "      <th>x17</th>\n",
       "      <th>y17</th>\n",
       "      <th>x18</th>\n",
       "      <th>y18</th>\n",
       "      <th>x19</th>\n",
       "      <th>y19</th>\n",
       "      <th>x20</th>\n",
       "      <th>y20</th>\n",
       "      <th>Y</th>\n",
       "    </tr>\n",
       "  </thead>\n",
       "  <tbody>\n",
       "    <tr>\n",
       "      <th>0</th>\n",
       "      <td>5</td>\n",
       "      <td>124</td>\n",
       "      <td>0</td>\n",
       "      <td>105</td>\n",
       "      <td>2</td>\n",
       "      <td>81</td>\n",
       "      <td>11</td>\n",
       "      <td>66</td>\n",
       "      <td>17</td>\n",
       "      <td>54</td>\n",
       "      <td>...</td>\n",
       "      <td>98</td>\n",
       "      <td>25</td>\n",
       "      <td>89</td>\n",
       "      <td>27</td>\n",
       "      <td>86</td>\n",
       "      <td>22</td>\n",
       "      <td>95</td>\n",
       "      <td>19</td>\n",
       "      <td>101</td>\n",
       "      <td>Mouse Move</td>\n",
       "    </tr>\n",
       "    <tr>\n",
       "      <th>1</th>\n",
       "      <td>6</td>\n",
       "      <td>124</td>\n",
       "      <td>0</td>\n",
       "      <td>106</td>\n",
       "      <td>2</td>\n",
       "      <td>82</td>\n",
       "      <td>11</td>\n",
       "      <td>65</td>\n",
       "      <td>17</td>\n",
       "      <td>54</td>\n",
       "      <td>...</td>\n",
       "      <td>96</td>\n",
       "      <td>26</td>\n",
       "      <td>87</td>\n",
       "      <td>27</td>\n",
       "      <td>84</td>\n",
       "      <td>22</td>\n",
       "      <td>93</td>\n",
       "      <td>20</td>\n",
       "      <td>99</td>\n",
       "      <td>Mouse Move</td>\n",
       "    </tr>\n",
       "    <tr>\n",
       "      <th>2</th>\n",
       "      <td>5</td>\n",
       "      <td>124</td>\n",
       "      <td>0</td>\n",
       "      <td>106</td>\n",
       "      <td>2</td>\n",
       "      <td>83</td>\n",
       "      <td>11</td>\n",
       "      <td>68</td>\n",
       "      <td>17</td>\n",
       "      <td>55</td>\n",
       "      <td>...</td>\n",
       "      <td>99</td>\n",
       "      <td>26</td>\n",
       "      <td>89</td>\n",
       "      <td>27</td>\n",
       "      <td>85</td>\n",
       "      <td>21</td>\n",
       "      <td>95</td>\n",
       "      <td>18</td>\n",
       "      <td>102</td>\n",
       "      <td>Mouse Move</td>\n",
       "    </tr>\n",
       "    <tr>\n",
       "      <th>3</th>\n",
       "      <td>6</td>\n",
       "      <td>126</td>\n",
       "      <td>0</td>\n",
       "      <td>109</td>\n",
       "      <td>2</td>\n",
       "      <td>85</td>\n",
       "      <td>11</td>\n",
       "      <td>69</td>\n",
       "      <td>17</td>\n",
       "      <td>56</td>\n",
       "      <td>...</td>\n",
       "      <td>98</td>\n",
       "      <td>27</td>\n",
       "      <td>89</td>\n",
       "      <td>28</td>\n",
       "      <td>84</td>\n",
       "      <td>22</td>\n",
       "      <td>95</td>\n",
       "      <td>20</td>\n",
       "      <td>100</td>\n",
       "      <td>Mouse Move</td>\n",
       "    </tr>\n",
       "    <tr>\n",
       "      <th>4</th>\n",
       "      <td>5</td>\n",
       "      <td>125</td>\n",
       "      <td>0</td>\n",
       "      <td>107</td>\n",
       "      <td>2</td>\n",
       "      <td>84</td>\n",
       "      <td>10</td>\n",
       "      <td>67</td>\n",
       "      <td>17</td>\n",
       "      <td>54</td>\n",
       "      <td>...</td>\n",
       "      <td>100</td>\n",
       "      <td>25</td>\n",
       "      <td>89</td>\n",
       "      <td>28</td>\n",
       "      <td>84</td>\n",
       "      <td>22</td>\n",
       "      <td>95</td>\n",
       "      <td>18</td>\n",
       "      <td>102</td>\n",
       "      <td>Mouse Move</td>\n",
       "    </tr>\n",
       "    <tr>\n",
       "      <th>5</th>\n",
       "      <td>6</td>\n",
       "      <td>125</td>\n",
       "      <td>0</td>\n",
       "      <td>107</td>\n",
       "      <td>3</td>\n",
       "      <td>83</td>\n",
       "      <td>11</td>\n",
       "      <td>67</td>\n",
       "      <td>17</td>\n",
       "      <td>53</td>\n",
       "      <td>...</td>\n",
       "      <td>101</td>\n",
       "      <td>26</td>\n",
       "      <td>89</td>\n",
       "      <td>28</td>\n",
       "      <td>85</td>\n",
       "      <td>22</td>\n",
       "      <td>95</td>\n",
       "      <td>19</td>\n",
       "      <td>102</td>\n",
       "      <td>Mouse Move</td>\n",
       "    </tr>\n",
       "    <tr>\n",
       "      <th>6</th>\n",
       "      <td>6</td>\n",
       "      <td>126</td>\n",
       "      <td>0</td>\n",
       "      <td>108</td>\n",
       "      <td>2</td>\n",
       "      <td>84</td>\n",
       "      <td>11</td>\n",
       "      <td>67</td>\n",
       "      <td>17</td>\n",
       "      <td>54</td>\n",
       "      <td>...</td>\n",
       "      <td>98</td>\n",
       "      <td>27</td>\n",
       "      <td>88</td>\n",
       "      <td>28</td>\n",
       "      <td>84</td>\n",
       "      <td>23</td>\n",
       "      <td>95</td>\n",
       "      <td>20</td>\n",
       "      <td>101</td>\n",
       "      <td>Mouse Move</td>\n",
       "    </tr>\n",
       "    <tr>\n",
       "      <th>7</th>\n",
       "      <td>5</td>\n",
       "      <td>124</td>\n",
       "      <td>0</td>\n",
       "      <td>106</td>\n",
       "      <td>2</td>\n",
       "      <td>82</td>\n",
       "      <td>10</td>\n",
       "      <td>67</td>\n",
       "      <td>17</td>\n",
       "      <td>54</td>\n",
       "      <td>...</td>\n",
       "      <td>99</td>\n",
       "      <td>25</td>\n",
       "      <td>89</td>\n",
       "      <td>26</td>\n",
       "      <td>85</td>\n",
       "      <td>21</td>\n",
       "      <td>95</td>\n",
       "      <td>18</td>\n",
       "      <td>102</td>\n",
       "      <td>Mouse Move</td>\n",
       "    </tr>\n",
       "    <tr>\n",
       "      <th>8</th>\n",
       "      <td>5</td>\n",
       "      <td>125</td>\n",
       "      <td>0</td>\n",
       "      <td>108</td>\n",
       "      <td>2</td>\n",
       "      <td>84</td>\n",
       "      <td>10</td>\n",
       "      <td>67</td>\n",
       "      <td>17</td>\n",
       "      <td>55</td>\n",
       "      <td>...</td>\n",
       "      <td>100</td>\n",
       "      <td>26</td>\n",
       "      <td>89</td>\n",
       "      <td>27</td>\n",
       "      <td>85</td>\n",
       "      <td>22</td>\n",
       "      <td>95</td>\n",
       "      <td>18</td>\n",
       "      <td>102</td>\n",
       "      <td>Mouse Move</td>\n",
       "    </tr>\n",
       "    <tr>\n",
       "      <th>9</th>\n",
       "      <td>5</td>\n",
       "      <td>124</td>\n",
       "      <td>0</td>\n",
       "      <td>105</td>\n",
       "      <td>2</td>\n",
       "      <td>82</td>\n",
       "      <td>11</td>\n",
       "      <td>67</td>\n",
       "      <td>17</td>\n",
       "      <td>55</td>\n",
       "      <td>...</td>\n",
       "      <td>99</td>\n",
       "      <td>26</td>\n",
       "      <td>88</td>\n",
       "      <td>27</td>\n",
       "      <td>84</td>\n",
       "      <td>22</td>\n",
       "      <td>94</td>\n",
       "      <td>20</td>\n",
       "      <td>101</td>\n",
       "      <td>Mouse Move</td>\n",
       "    </tr>\n",
       "  </tbody>\n",
       "</table>\n",
       "<p>10 rows × 43 columns</p>\n",
       "</div>"
      ],
      "text/plain": [
       "   x0   y0  x1   y1  x2  y2  x3  y3  x4  y4  ...  y16  x17  y17  x18  y18  \\\n",
       "0   5  124   0  105   2  81  11  66  17  54  ...   98   25   89   27   86   \n",
       "1   6  124   0  106   2  82  11  65  17  54  ...   96   26   87   27   84   \n",
       "2   5  124   0  106   2  83  11  68  17  55  ...   99   26   89   27   85   \n",
       "3   6  126   0  109   2  85  11  69  17  56  ...   98   27   89   28   84   \n",
       "4   5  125   0  107   2  84  10  67  17  54  ...  100   25   89   28   84   \n",
       "5   6  125   0  107   3  83  11  67  17  53  ...  101   26   89   28   85   \n",
       "6   6  126   0  108   2  84  11  67  17  54  ...   98   27   88   28   84   \n",
       "7   5  124   0  106   2  82  10  67  17  54  ...   99   25   89   26   85   \n",
       "8   5  125   0  108   2  84  10  67  17  55  ...  100   26   89   27   85   \n",
       "9   5  124   0  105   2  82  11  67  17  55  ...   99   26   88   27   84   \n",
       "\n",
       "   x19  y19  x20  y20           Y  \n",
       "0   22   95   19  101  Mouse Move  \n",
       "1   22   93   20   99  Mouse Move  \n",
       "2   21   95   18  102  Mouse Move  \n",
       "3   22   95   20  100  Mouse Move  \n",
       "4   22   95   18  102  Mouse Move  \n",
       "5   22   95   19  102  Mouse Move  \n",
       "6   23   95   20  101  Mouse Move  \n",
       "7   21   95   18  102  Mouse Move  \n",
       "8   22   95   18  102  Mouse Move  \n",
       "9   22   94   20  101  Mouse Move  \n",
       "\n",
       "[10 rows x 43 columns]"
      ]
     },
     "execution_count": 12,
     "metadata": {},
     "output_type": "execute_result"
    }
   ],
   "source": [
    "df = pd.read_csv('datasets/1667171758.794016.csv').drop(['Unnamed: 0'], axis=1)\n",
    "df.head(10)"
   ]
  },
  {
   "cell_type": "code",
   "execution_count": 13,
   "metadata": {},
   "outputs": [
    {
     "name": "stdout",
     "output_type": "stream",
     "text": [
      "Ejemplos usados para entrenar:  70\n",
      "Ejemplos usados para test:  633\n"
     ]
    }
   ],
   "source": [
    "X = df.drop('Y', axis=1, inplace=False)\n",
    "Y = df['Y']\n",
    "# Testing overfitting with 90% test size\n",
    "x_train, x_test, y_train, y_test = train_test_split(X, Y, test_size=0.9, shuffle=True)\n",
    "\n",
    "print(\"Ejemplos usados para entrenar: \", len(x_train))\n",
    "print(\"Ejemplos usados para test: \", len(x_test))"
   ]
  },
  {
   "cell_type": "markdown",
   "metadata": {},
   "source": [
    "### Model training"
   ]
  },
  {
   "cell_type": "code",
   "execution_count": 14,
   "metadata": {},
   "outputs": [
    {
     "name": "stdout",
     "output_type": "stream",
     "text": [
      "Accuracy of K-NN classifier on training set: 1.00\n"
     ]
    }
   ],
   "source": [
    "knn = KNeighborsClassifier(9)\n",
    "knn.fit(x_train, y_train)\n",
    "print('Accuracy of K-NN classifier on training set: {:.2f}'.format(knn.score(x_train, y_train)))"
   ]
  },
  {
   "cell_type": "code",
   "execution_count": 15,
   "metadata": {},
   "outputs": [],
   "source": [
    "pred = knn.predict(x_test)"
   ]
  },
  {
   "cell_type": "code",
   "execution_count": 16,
   "metadata": {},
   "outputs": [
    {
     "data": {
      "text/plain": [
       "<AxesSubplot: >"
      ]
     },
     "execution_count": 16,
     "metadata": {},
     "output_type": "execute_result"
    },
    {
     "data": {
      "image/png": "[encoded data removed]",
      "text/plain": [
       "<Figure size 640x480 with 2 Axes>"
      ]
     },
     "metadata": {},
     "output_type": "display_data"
    }
   ],
   "source": [
    "sns.heatmap(confusion_matrix(y_test, pred), annot=True)"
   ]
  },
  {
   "cell_type": "code",
   "execution_count": 17,
   "metadata": {},
   "outputs": [
    {
     "name": "stdout",
     "output_type": "stream",
     "text": [
      "              precision    recall  f1-score   support\n",
      "\n",
      "  Left Click       1.00      1.00      1.00       366\n",
      "  Mouse Move       1.00      1.00      1.00       267\n",
      "\n",
      "    accuracy                           1.00       633\n",
      "   macro avg       1.00      1.00      1.00       633\n",
      "weighted avg       1.00      1.00      1.00       633\n",
      "\n"
     ]
    }
   ],
   "source": [
    "print(classification_report(y_test, pred))"
   ]
  },
  {
   "cell_type": "markdown",
   "metadata": {},
   "source": [
    "### Elbow Method"
   ]
  },
  {
   "cell_type": "code",
   "execution_count": 18,
   "metadata": {},
   "outputs": [],
   "source": [
    "test_error_rates = []\n",
    "\n",
    "for k in range(1,20):\n",
    "    knn_model = KNeighborsClassifier(n_neighbors=k)\n",
    "    knn_model.fit(x_train, y_train) \n",
    "   \n",
    "    y_pred = knn_model.predict(x_test)\n",
    "    \n",
    "    test_error = 1 - accuracy_score(y_test,y_pred)\n",
    "    test_error_rates.append(test_error)"
   ]
  },
  {
   "cell_type": "code",
   "execution_count": 19,
   "metadata": {},
   "outputs": [
    {
     "data": {
      "text/plain": [
       "Text(0.5, 0, 'K Value')"
      ]
     },
     "execution_count": 19,
     "metadata": {},
     "output_type": "execute_result"
    },
    {
     "data": {
      "image/png": "[encoded data removed]",
      "text/plain": [
       "<Figure size 600x400 with 1 Axes>"
      ]
     },
     "metadata": {},
     "output_type": "display_data"
    }
   ],
   "source": [
    "plt.figure(figsize=(6,4),dpi=100)\n",
    "plt.plot(range(1,20),test_error_rates,label='Test Error')\n",
    "plt.legend()\n",
    "plt.ylabel('Error Rate')\n",
    "plt.xlabel(\"K Value\")"
   ]
  }
 ],
 "metadata": {
  "kernelspec": {
   "display_name": "Python 3.10.0 ('mucsi-vpc')",
   "language": "python",
   "name": "python3"
  },
  "language_info": {
   "codemirror_mode": {
    "name": "ipython",
    "version": 3
   },
   "file_extension": ".py",
   "mimetype": "text/x-python",
   "name": "python",
   "nbconvert_exporter": "python",
   "pygments_lexer": "ipython3",
   "version": "3.10.0"
  },
  "orig_nbformat": 4,
  "vscode": {
   "interpreter": {
    "hash": "ecd9054860996d5fb6517079054754c6989c25de9e4bbc7a9596290e731727a5"
   }
  }
 },
 "nbformat": 4,
 "nbformat_minor": 2
}
